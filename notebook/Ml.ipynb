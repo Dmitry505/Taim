{
  "nbformat": 4,
  "nbformat_minor": 0,
  "metadata": {
    "colab": {
      "provenance": []
    },
    "kernelspec": {
      "name": "python3",
      "display_name": "Python 3"
    },
    "language_info": {
      "name": "python"
    }
  },
  "cells": [
    {
      "cell_type": "code",
      "execution_count": null,
      "metadata": {
        "id": "irgV-uThbiMO"
      },
      "outputs": [],
      "source": [
        "import pandas as pd"
      ]
    },
    {
      "cell_type": "code",
      "source": [
        "data = pd.read_csv(\"\")"
      ],
      "metadata": {
        "id": "yuIi7tEnpEZU"
      },
      "execution_count": null,
      "outputs": []
    },
    {
      "cell_type": "code",
      "source": [
        "data"
      ],
      "metadata": {
        "id": "9zRYVSV9pG6n"
      },
      "execution_count": null,
      "outputs": []
    },
    {
      "cell_type": "markdown",
      "source": [
        "Информация"
      ],
      "metadata": {
        "id": "y31l_OswpJ2h"
      }
    },
    {
      "cell_type": "code",
      "source": [
        "data.info()"
      ],
      "metadata": {
        "id": "t9DQZnSxpLmg"
      },
      "execution_count": null,
      "outputs": []
    },
    {
      "cell_type": "markdown",
      "source": [
        "предобработка"
      ],
      "metadata": {
        "id": "PB-IT7t-pP1G"
      }
    },
    {
      "cell_type": "code",
      "source": [
        "data.describe()"
      ],
      "metadata": {
        "id": "eJQD2QfGpRP4"
      },
      "execution_count": null,
      "outputs": []
    },
    {
      "cell_type": "code",
      "source": [
        "data.isna().sum()"
      ],
      "metadata": {
        "id": "jO6b3AT_pUxn"
      },
      "execution_count": null,
      "outputs": []
    },
    {
      "cell_type": "code",
      "source": [
        "data = data.dropna ()"
      ],
      "metadata": {
        "id": "SWyJ5Sn0prPG"
      },
      "execution_count": null,
      "outputs": []
    },
    {
      "cell_type": "code",
      "source": [
        "int_group = []\n",
        "for col in int_group:\n",
        "  data[col] = data[col].astype(int)"
      ],
      "metadata": {
        "id": "vZHmHAKVp0GH"
      },
      "execution_count": null,
      "outputs": []
    },
    {
      "cell_type": "code",
      "source": [
        "data.dtypes"
      ],
      "metadata": {
        "id": "9b4vVImoqAuE"
      },
      "execution_count": null,
      "outputs": []
    },
    {
      "cell_type": "code",
      "source": [
        "dict1 = {'True': '1', 'False': '0'}\n",
        "lo  = []\n",
        "\n",
        "data[lo]=data[lo].astype(str)\n",
        "data.loc[:, lo] = data[lo].map(dict1)\n",
        "data"
      ],
      "metadata": {
        "id": "km2XTrVCqIiO"
      },
      "execution_count": null,
      "outputs": []
    },
    {
      "cell_type": "code",
      "source": [
        "data = pd.get_dummies(data, columns = []) # образования столцов из в 0/1\n",
        "data"
      ],
      "metadata": {
        "id": "8rsBoQ_0qIr3"
      },
      "execution_count": null,
      "outputs": []
    },
    {
      "cell_type": "code",
      "source": [
        "import seaborn as sns\n",
        "import matplotlib.pyplot as plt"
      ],
      "metadata": {
        "id": "t5jHg6sdrAFY"
      },
      "execution_count": null,
      "outputs": []
    },
    {
      "cell_type": "code",
      "source": [
        "columns = []\n",
        "\n",
        "for col in columns:\n",
        "        plt.figure(figsize=(10, 6))\n",
        "        sns.boxplot(df[col])\n",
        "        plt.title(f'{col}')\n",
        "        plt"
      ],
      "metadata": {
        "id": "cGviZ9fxq604"
      },
      "execution_count": null,
      "outputs": []
    },
    {
      "cell_type": "code",
      "source": [
        "outliers = data[[]]\n",
        "Q1 = outliers.quantile(.25)\n",
        "Q3 = outliers.quantile(.75)\n",
        "IQR = Q3 - Q1\n",
        "data[~((data < Q1-1.5*IQR) | (data > Q3+1.5*IQR)).any(axis=1)].reset_index()"
      ],
      "metadata": {
        "id": "RyF9Xoy3rGwA"
      },
      "execution_count": null,
      "outputs": []
    },
    {
      "cell_type": "markdown",
      "source": [
        "Пред анализ"
      ],
      "metadata": {
        "id": "RSXdYk7orX5Z"
      }
    },
    {
      "cell_type": "code",
      "source": [
        "data.describe()"
      ],
      "metadata": {
        "id": "4GBsystFra1P"
      },
      "execution_count": null,
      "outputs": []
    },
    {
      "cell_type": "code",
      "source": [
        "data.dtypes"
      ],
      "metadata": {
        "id": "VO8ApwilrcT_"
      },
      "execution_count": null,
      "outputs": []
    },
    {
      "cell_type": "code",
      "source": [
        "columns = df.columns\n",
        "\n",
        "for col in columns:\n",
        "    df.hist(col, bins=100)"
      ],
      "metadata": {
        "id": "8KPpZbpkrkZG"
      },
      "execution_count": null,
      "outputs": []
    },
    {
      "cell_type": "code",
      "source": [
        "correct = []\n",
        "new_df = data[correct]\n",
        "plt.figure(figsize=(12, 8))\n",
        "sns.heatmap(new_df.corr(), annot=True, cmap='coolwarm')\n",
        "plt.title('Тепловая карта')"
      ],
      "metadata": {
        "id": "GVhsoqFArzcJ"
      },
      "execution_count": null,
      "outputs": []
    },
    {
      "cell_type": "code",
      "source": [
        "sns.pairplot(data[[]], hue= '')"
      ],
      "metadata": {
        "id": "JGmBzSjcr5E4"
      },
      "execution_count": null,
      "outputs": []
    },
    {
      "cell_type": "code",
      "source": [
        "data.duplicated().sum()"
      ],
      "metadata": {
        "id": "VjVkcVHJsAKH"
      },
      "execution_count": null,
      "outputs": []
    },
    {
      "cell_type": "code",
      "source": [
        "data = data.drop_duplicates()"
      ],
      "metadata": {
        "id": "cYnDSCjPsGsk"
      },
      "execution_count": null,
      "outputs": []
    },
    {
      "cell_type": "code",
      "source": [
        "data.to_csv(\"preprocessed_examData.csv\", index=False)"
      ],
      "metadata": {
        "id": "kGYGDd6XsQfx"
      },
      "execution_count": null,
      "outputs": []
    },
    {
      "cell_type": "markdown",
      "source": [
        "B"
      ],
      "metadata": {
        "id": "t6ogCpZpsUbJ"
      }
    },
    {
      "cell_type": "code",
      "source": [
        "from sklearn.model_selection import train_test_split\n",
        "from sklearn.metrics import classification_report, confusion_matrix\n",
        "from sklearn.ensemble import GradientBoostingClassifier\n",
        "\n",
        "import xgboost as xgb\n",
        "\n",
        "from sklearn.neighbors import KNeighborsClassifier\n",
        "\n",
        "from sklearn.model_selection import GridSearchCV\n",
        "\n",
        "from sklearn.feature_selection import VarianceThreshold, SelectKBest"
      ],
      "metadata": {
        "id": "XFSFvtKiskgp"
      },
      "execution_count": null,
      "outputs": []
    },
    {
      "cell_type": "code",
      "source": [
        "def print_metrics(y_pred, y_true):\n",
        "  print(f'''confusion_matrix: \\n{confusion_matrix(y_pred, y_test)}''')\n",
        "  print(f'''classification report: {classification_report(y_pred, y_test)}''')"
      ],
      "metadata": {
        "id": "MYOZXvYBs17z"
      },
      "execution_count": null,
      "outputs": []
    },
    {
      "cell_type": "code",
      "source": [
        "loaded_data = pd.read_csv('.csv')"
      ],
      "metadata": {
        "id": "xspCOIU2sTp5"
      },
      "execution_count": null,
      "outputs": []
    },
    {
      "cell_type": "code",
      "source": [
        "X = data.drop(columns='')\n",
        "y = data['']"
      ],
      "metadata": {
        "id": "GSvfNMHZsjm4"
      },
      "execution_count": null,
      "outputs": []
    },
    {
      "cell_type": "code",
      "source": [
        "y.value_counts()"
      ],
      "metadata": {
        "id": "ND03H8mSsqdq"
      },
      "execution_count": null,
      "outputs": []
    },
    {
      "cell_type": "code",
      "source": [
        "from imblearn.over_sampling import RandomOverSampler\n",
        "from sklearn.preprocessing import StandardScaler\n",
        "\n",
        "X = StandardScaler().fit_transform(X)\n",
        "X, y = RandomOverSampler(random_state=42).fit_resample(X, y)\n",
        "X_train, X_test, y_train, y_test = train_test_split(X, y, test_size=.2, shuffle=True)"
      ],
      "metadata": {
        "id": "UdrRTeGYsuPP"
      },
      "execution_count": null,
      "outputs": []
    },
    {
      "cell_type": "code",
      "source": [
        "y.value_counts()"
      ],
      "metadata": {
        "id": "FnN6jaszswWo"
      },
      "execution_count": null,
      "outputs": []
    },
    {
      "cell_type": "code",
      "source": [
        "gbc = GradientBoostingClassifier()\n",
        "\n",
        "\n",
        "params = {\n",
        "    'n_estimators': [100, 200],\n",
        "    'learning_rate': [0.05, 0.001],\n",
        "    'max_depth': [2,3,4,5]}\n",
        "grid_search = GridSearchCV(gbc, param_grid=params, cv=5)\n",
        "\n",
        "grid_search.fit(X_train, y_train)"
      ],
      "metadata": {
        "id": "6RetaIHEtN-6"
      },
      "execution_count": null,
      "outputs": []
    },
    {
      "cell_type": "code",
      "source": [
        "  X_train, X_test, y_train, y_test = train_test_split(X, y, test_size=0.3, shuffle=False, random_state=rnd)\n",
        "  bag = BaggingClassifier().fit(X_train, y_train)\n",
        "  print(classification_report(y_test, bag.predict(X_test)))"
      ],
      "metadata": {
        "id": "-tf9e1lZtYt2"
      },
      "execution_count": null,
      "outputs": []
    },
    {
      "cell_type": "code",
      "source": [
        "from sklearn.feature_selection import VarianceThreshold\n",
        "vt = VarianceThreshold(50)\n",
        "X_vt = vt.fit_transform(X)\n",
        "\n",
        "print(X.shape)\n",
        "print(X_vt.shape)\n",
        "\n",
        "X_vt = pd.DataFrame(X_vt, columns=vt.get_feature_names_out())\n",
        "test(X_vt, y)"
      ],
      "metadata": {
        "id": "fy-UMnfztcrB"
      },
      "execution_count": null,
      "outputs": []
    },
    {
      "cell_type": "code",
      "source": [
        "from sklearn.feature_selection import SelectKBest\n",
        "skb = SelectKBest(k=10)\n",
        "X_skb = skb.fit_transform(X, y)\n",
        "\n",
        "print(X.shape)\n",
        "print(X_skb.shape)\n",
        "\n",
        "X_skb = pd.DataFrame(X_skb, columns=skb.get_feature_names_out())\n",
        "test(X_skb, y)"
      ],
      "metadata": {
        "id": "NJzENr5zte7v"
      },
      "execution_count": null,
      "outputs": []
    },
    {
      "cell_type": "code",
      "source": [
        "from sklearn.decomposition import PCA\n",
        "pca = PCA(n_components=8)\n",
        "X_pca = pca.fit_transform(X, y)\n",
        "\n",
        "print(X.shape)\n",
        "print(X_pca.shape)\n",
        "\n",
        "X_pca = pd.DataFrame(X_pca, columns=pca.get_feature_names_out())\n",
        "test(X_pca, y)\n",
        "sum(pca.explained_variance_ratio_)"
      ],
      "metadata": {
        "id": "rzvuV-i6thP6"
      },
      "execution_count": null,
      "outputs": []
    },
    {
      "cell_type": "code",
      "source": [
        "test(new_df.drop(['Revenue','ExitRates'], axis=1),y)"
      ],
      "metadata": {
        "id": "GoCxvboVtiEQ"
      },
      "execution_count": null,
      "outputs": []
    },
    {
      "cell_type": "code",
      "source": [
        "from sklearn.model_selection import train_test_split\n",
        "X_train, X_test, y_train, y_test = train_test_split(X, y, test_size=0.2, stratify = y)"
      ],
      "metadata": {
        "id": "KAKmry3_trVj"
      },
      "execution_count": null,
      "outputs": []
    },
    {
      "cell_type": "code",
      "source": [
        "knn3 = KNeighborsClassifier(n_neighbors=3)\n",
        "knn3.fit(X_train, y_train)\n",
        "y_knn3_pred = knn3.predict(X_test)"
      ],
      "metadata": {
        "id": "2U7KMfmDtwF3"
      },
      "execution_count": null,
      "outputs": []
    },
    {
      "cell_type": "code",
      "source": [
        "param = {\n",
        "        'n_neighbors': np.arange(1, 10)\n",
        "        }"
      ],
      "metadata": {
        "id": "LUai2kuSt0iC"
      },
      "execution_count": null,
      "outputs": []
    },
    {
      "cell_type": "code",
      "source": [
        "opt_param = GridSearchCV(KNeighborsClassifier(), param_grid=param).fit(X,y)\n",
        "\n",
        "n_n_opt = opt_param.best_params_['n_neighbors']\n",
        "print(n_n_opt)\n"
      ],
      "metadata": {
        "id": "2tX5EFa-t1hp"
      },
      "execution_count": null,
      "outputs": []
    },
    {
      "cell_type": "code",
      "source": [
        "BC = BaggingClassifier()\n",
        "BC.fit(X_train, y_train)\n",
        "y_pred_Bag = BC.predict(X_test)"
      ],
      "metadata": {
        "id": "aa59mzp1uCDY"
      },
      "execution_count": null,
      "outputs": []
    },
    {
      "cell_type": "code",
      "source": [
        "import pickle\n",
        "filename = 'KNN.sav'\n",
        "pickle.dump(knn_opt, open(filename, 'wb'))\n",
        "#load_model = pickle.load(open(path, 'rb'))"
      ],
      "metadata": {
        "id": "oM-XYYr7uFiG"
      },
      "execution_count": null,
      "outputs": []
    },
    {
      "cell_type": "code",
      "source": [
        "gnb = GaussianNB()\n",
        "gnb.fit(X_train, y_train)\n",
        "\n",
        "y_gnb_pred=gnb.predict(X_test)\n",
        "\n",
        "\n",
        "metric(y_test, y_gnb_pred)"
      ],
      "metadata": {
        "id": "RI-PdXMGuKPt"
      },
      "execution_count": null,
      "outputs": []
    }
  ]
}